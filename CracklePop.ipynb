{
 "cells": [
  {
   "cell_type": "code",
   "execution_count": null,
   "id": "0",
   "metadata": {},
   "outputs": [],
   "source": [
    "''' \n",
    "A program that prints out the numbers 1 to 100 \n",
    "(inclusive). If the number is divisible by 3, prints \n",
    "Crackle instead of the number. If it's divisible by 5, \n",
    "prints Pop. If it's divisible by both 3 and 5, prints\n",
    "CracklePop.\n",
    "'''\n",
    "\n",
    "for num in list(range(1,101)):\n",
    "    item = ''\n",
    "    if num%3 == 0:\n",
    "        item += 'Crackle'\n",
    "    if num%5 == 0:\n",
    "        item += 'Pop'\n",
    "    if item == '':\n",
    "        item = str(num)\n",
    "    print(item)"
   ]
  }
 ],
 "metadata": {
  "kernelspec": {
   "display_name": "Python 3 (ipykernel)",
   "language": "python",
   "name": "python3"
  },
  "language_info": {
   "codemirror_mode": {
    "name": "ipython",
    "version": 3
   },
   "file_extension": ".py",
   "mimetype": "text/x-python",
   "name": "python",
   "nbconvert_exporter": "python",
   "pygments_lexer": "ipython3",
   "version": "3.11.4"
  }
 },
 "nbformat": 4,
 "nbformat_minor": 5
}
